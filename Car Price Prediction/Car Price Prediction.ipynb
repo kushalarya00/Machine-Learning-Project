{
 "cells": [
  {
   "cell_type": "markdown",
   "id": "8729cf0e",
   "metadata": {},
   "source": [
    "## Problem Statement:\n",
    "**With the covid 19 impact in the market, we have seen lot of changes in the car market. Now some cars are in demand hence making them costly and some are not in demand hence cheaper. One of our clients works with small traders, who sell used cars. With the change in market due to covid 19 impact, our client is facing problems with their previous car price valuation machine learning models. So, they are looking for new machine learning models from new data. We have to make car price valuation model.**"
   ]
  },
  {
   "cell_type": "markdown",
   "id": "e6ee7786",
   "metadata": {},
   "source": [
    "### Importing Required Library"
   ]
  },
  {
   "cell_type": "code",
   "execution_count": 69,
   "id": "d875ed5e",
   "metadata": {},
   "outputs": [],
   "source": [
    "import pandas as pd\n",
    "import numpy as np\n",
    "import matplotlib.pyplot as plt\n",
    "import klib as kl\n",
    "import seaborn as sns\n",
    "import pickle\n",
    "from sklearn.preprocessing import StandardScaler\n",
    "from sklearn.model_selection import train_test_split, GridSearchCV\n",
    "from sklearn.tree import DecisionTreeRegressor\n",
    "from sklearn.neighbors import KNeighborsRegressor\n",
    "from sklearn.ensemble import RandomForestRegressor, BaggingRegressor, AdaBoostRegressor\n",
    "from sklearn.linear_model import LinearRegression\n",
    "from sklearn.metrics import r2_score, mean_squared_error\n",
    "import xgboost as xgb\n",
    "%matplotlib inline\n",
    "\n",
    "import warnings\n",
    "warnings.filterwarnings('ignore')"
   ]
  },
  {
   "cell_type": "markdown",
   "id": "da8180e8",
   "metadata": {},
   "source": [
    "### Reaing Data"
   ]
  },
  {
   "cell_type": "code",
   "execution_count": 2,
   "id": "f09ac2a2",
   "metadata": {},
   "outputs": [
    {
     "data": {
      "text/html": [
       "<div>\n",
       "<style scoped>\n",
       "    .dataframe tbody tr th:only-of-type {\n",
       "        vertical-align: middle;\n",
       "    }\n",
       "\n",
       "    .dataframe tbody tr th {\n",
       "        vertical-align: top;\n",
       "    }\n",
       "\n",
       "    .dataframe thead th {\n",
       "        text-align: right;\n",
       "    }\n",
       "</style>\n",
       "<table border=\"1\" class=\"dataframe\">\n",
       "  <thead>\n",
       "    <tr style=\"text-align: right;\">\n",
       "      <th></th>\n",
       "      <th>Brand</th>\n",
       "      <th>Name_URL</th>\n",
       "      <th>Assured</th>\n",
       "      <th>Number</th>\n",
       "      <th>View</th>\n",
       "      <th>Name</th>\n",
       "      <th>Distance</th>\n",
       "      <th>Fuel</th>\n",
       "      <th>Transmission</th>\n",
       "      <th>Amount</th>\n",
       "      <th>Price</th>\n",
       "      <th>Emi</th>\n",
       "      <th>Bookedbutton</th>\n",
       "      <th>Text</th>\n",
       "    </tr>\n",
       "  </thead>\n",
       "  <tbody>\n",
       "    <tr>\n",
       "      <th>0</th>\n",
       "      <td>2019 Toyota Etios Liva</td>\n",
       "      <td>https://www.cardekho.com/buy-used-car-details/...</td>\n",
       "      <td>CarDekho Assured</td>\n",
       "      <td>14</td>\n",
       "      <td>NaN</td>\n",
       "      <td>1.4 VD Dual Tone</td>\n",
       "      <td>62,642</td>\n",
       "      <td>Diesel</td>\n",
       "      <td>Manual</td>\n",
       "      <td>6.78</td>\n",
       "      <td>Fixed Price</td>\n",
       "      <td>12,089</td>\n",
       "      <td>Schedule Test Drive</td>\n",
       "      <td>NaN</td>\n",
       "    </tr>\n",
       "    <tr>\n",
       "      <th>1</th>\n",
       "      <td>2015 Ford EcoSport</td>\n",
       "      <td>https://www.cardekho.com/buy-used-car-details/...</td>\n",
       "      <td>CarDekho Assured</td>\n",
       "      <td>13</td>\n",
       "      <td>NaN</td>\n",
       "      <td>1.5 DV5 MT Titanium</td>\n",
       "      <td>86,059</td>\n",
       "      <td>Diesel</td>\n",
       "      <td>Manual</td>\n",
       "      <td>5.48</td>\n",
       "      <td>Fixed Price</td>\n",
       "      <td>11,096</td>\n",
       "      <td>Schedule Test Drive</td>\n",
       "      <td>NaN</td>\n",
       "    </tr>\n",
       "    <tr>\n",
       "      <th>2</th>\n",
       "      <td>2013 Maruti Wagon R Stingray</td>\n",
       "      <td>https://www.cardekho.com/buy-used-car-details/...</td>\n",
       "      <td>CarDekho Assured</td>\n",
       "      <td>13</td>\n",
       "      <td>20.0</td>\n",
       "      <td>VXI</td>\n",
       "      <td>90,128</td>\n",
       "      <td>Petrol</td>\n",
       "      <td>Manual</td>\n",
       "      <td>2.96</td>\n",
       "      <td>Fixed Price</td>\n",
       "      <td>NaN</td>\n",
       "      <td>Schedule Test Drive</td>\n",
       "      <td>NaN</td>\n",
       "    </tr>\n",
       "    <tr>\n",
       "      <th>3</th>\n",
       "      <td>2015 Honda Jazz</td>\n",
       "      <td>https://www.cardekho.com/buy-used-car-details/...</td>\n",
       "      <td>CarDekho Assured</td>\n",
       "      <td>14</td>\n",
       "      <td>3.0</td>\n",
       "      <td>1.5 SV i DTEC</td>\n",
       "      <td>65,911</td>\n",
       "      <td>Diesel</td>\n",
       "      <td>Manual</td>\n",
       "      <td>6.96</td>\n",
       "      <td>Fixed Price</td>\n",
       "      <td>14,093</td>\n",
       "      <td>Schedule Test Drive</td>\n",
       "      <td>NaN</td>\n",
       "    </tr>\n",
       "    <tr>\n",
       "      <th>4</th>\n",
       "      <td>2018 Maruti Vitara Brezza</td>\n",
       "      <td>https://www.cardekho.com/buy-used-car-details/...</td>\n",
       "      <td>CarDekho Assured</td>\n",
       "      <td>15</td>\n",
       "      <td>24.0</td>\n",
       "      <td>ZDi AMT</td>\n",
       "      <td>37,901</td>\n",
       "      <td>Diesel</td>\n",
       "      <td>Automatic</td>\n",
       "      <td>9.06</td>\n",
       "      <td>Fixed Price</td>\n",
       "      <td>18,345</td>\n",
       "      <td>Schedule Test Drive</td>\n",
       "      <td>NaN</td>\n",
       "    </tr>\n",
       "  </tbody>\n",
       "</table>\n",
       "</div>"
      ],
      "text/plain": [
       "                          Brand  \\\n",
       "0        2019 Toyota Etios Liva   \n",
       "1            2015 Ford EcoSport   \n",
       "2  2013 Maruti Wagon R Stingray   \n",
       "3               2015 Honda Jazz   \n",
       "4     2018 Maruti Vitara Brezza   \n",
       "\n",
       "                                            Name_URL           Assured  \\\n",
       "0  https://www.cardekho.com/buy-used-car-details/...  CarDekho Assured   \n",
       "1  https://www.cardekho.com/buy-used-car-details/...  CarDekho Assured   \n",
       "2  https://www.cardekho.com/buy-used-car-details/...  CarDekho Assured   \n",
       "3  https://www.cardekho.com/buy-used-car-details/...  CarDekho Assured   \n",
       "4  https://www.cardekho.com/buy-used-car-details/...  CarDekho Assured   \n",
       "\n",
       "   Number  View                 Name Distance    Fuel Transmission Amount  \\\n",
       "0      14   NaN     1.4 VD Dual Tone   62,642  Diesel       Manual   6.78   \n",
       "1      13   NaN  1.5 DV5 MT Titanium   86,059  Diesel       Manual   5.48   \n",
       "2      13  20.0                  VXI   90,128  Petrol       Manual   2.96   \n",
       "3      14   3.0        1.5 SV i DTEC   65,911  Diesel       Manual   6.96   \n",
       "4      15  24.0              ZDi AMT   37,901  Diesel    Automatic   9.06   \n",
       "\n",
       "         Price     Emi         Bookedbutton Text  \n",
       "0  Fixed Price  12,089  Schedule Test Drive  NaN  \n",
       "1  Fixed Price  11,096  Schedule Test Drive  NaN  \n",
       "2  Fixed Price     NaN  Schedule Test Drive  NaN  \n",
       "3  Fixed Price  14,093  Schedule Test Drive  NaN  \n",
       "4  Fixed Price  18,345  Schedule Test Drive  NaN  "
      ]
     },
     "execution_count": 2,
     "metadata": {},
     "output_type": "execute_result"
    }
   ],
   "source": [
    "df = pd.read_csv(r\"C:\\Users\\Arya\\Desktop\\Data cv\\Used Car Data.csv\", sep='\\t')\n",
    "df.head()"
   ]
  },
  {
   "cell_type": "markdown",
   "id": "01a53e90",
   "metadata": {},
   "source": [
    "### Check no of row and column"
   ]
  },
  {
   "cell_type": "code",
   "execution_count": 3,
   "id": "cab7ad29",
   "metadata": {},
   "outputs": [
    {
     "name": "stdout",
     "output_type": "stream",
     "text": [
      "No of Rows and Columns -----> (902, 14)\n"
     ]
    }
   ],
   "source": [
    "print('No of Rows and Columns ----->', df.shape )"
   ]
  },
  {
   "cell_type": "markdown",
   "id": "4220b531",
   "metadata": {},
   "source": [
    "### Checking for Null values"
   ]
  },
  {
   "cell_type": "code",
   "execution_count": 4,
   "id": "700fafd3",
   "metadata": {},
   "outputs": [
    {
     "name": "stdout",
     "output_type": "stream",
     "text": [
      "================================\n",
      "\n",
      "Brand             0\n",
      "Name_URL          0\n",
      "Assured           0\n",
      "Number            0\n",
      "View              8\n",
      "Name              0\n",
      "Distance          0\n",
      "Fuel              0\n",
      "Transmission      0\n",
      "Amount            0\n",
      "Price            18\n",
      "Emi             160\n",
      "Bookedbutton     18\n",
      "Text            898\n",
      "dtype: int64\n",
      "\n",
      "================================\n"
     ]
    }
   ],
   "source": [
    "print('================================\\n')\n",
    "print(df.isnull().sum())\n",
    "print('\\n================================')"
   ]
  },
  {
   "cell_type": "code",
   "execution_count": 5,
   "id": "efbb6d57",
   "metadata": {},
   "outputs": [
    {
     "data": {
      "image/png": "[encoded data removed]",
      "text/plain": [
       "<Figure size 1440x1440 with 4 Axes>"
      ]
     },
     "metadata": {
      "needs_background": "light"
     },
     "output_type": "display_data"
    }
   ],
   "source": [
    "kl.missingval_plot(df) # returns a figure containing information about missing values\n",
    "plt.tight_layout()"
   ]
  },
  {
   "cell_type": "markdown",
   "id": "f3fd4c8d",
   "metadata": {},
   "source": [
    "#### There is null value found in dataset"
   ]
  },
  {
   "cell_type": "markdown",
   "id": "2fcdbf1e",
   "metadata": {},
   "source": [
    "### Droping Unwanted Columns"
   ]
  },
  {
   "cell_type": "code",
   "execution_count": 6,
   "id": "8fd6cdea",
   "metadata": {},
   "outputs": [
    {
     "data": {
      "text/html": [
       "<div>\n",
       "<style scoped>\n",
       "    .dataframe tbody tr th:only-of-type {\n",
       "        vertical-align: middle;\n",
       "    }\n",
       "\n",
       "    .dataframe tbody tr th {\n",
       "        vertical-align: top;\n",
       "    }\n",
       "\n",
       "    .dataframe thead th {\n",
       "        text-align: right;\n",
       "    }\n",
       "</style>\n",
       "<table border=\"1\" class=\"dataframe\">\n",
       "  <thead>\n",
       "    <tr style=\"text-align: right;\">\n",
       "      <th></th>\n",
       "      <th>Brand</th>\n",
       "      <th>Assured</th>\n",
       "      <th>Number</th>\n",
       "      <th>View</th>\n",
       "      <th>Name</th>\n",
       "      <th>Distance</th>\n",
       "      <th>Fuel</th>\n",
       "      <th>Transmission</th>\n",
       "      <th>Amount</th>\n",
       "      <th>Price</th>\n",
       "      <th>Emi</th>\n",
       "      <th>Bookedbutton</th>\n",
       "    </tr>\n",
       "  </thead>\n",
       "  <tbody>\n",
       "    <tr>\n",
       "      <th>0</th>\n",
       "      <td>2019 Toyota Etios Liva</td>\n",
       "      <td>CarDekho Assured</td>\n",
       "      <td>14</td>\n",
       "      <td>NaN</td>\n",
       "      <td>1.4 VD Dual Tone</td>\n",
       "      <td>62,642</td>\n",
       "      <td>Diesel</td>\n",
       "      <td>Manual</td>\n",
       "      <td>6.78</td>\n",
       "      <td>Fixed Price</td>\n",
       "      <td>12,089</td>\n",
       "      <td>Schedule Test Drive</td>\n",
       "    </tr>\n",
       "    <tr>\n",
       "      <th>1</th>\n",
       "      <td>2015 Ford EcoSport</td>\n",
       "      <td>CarDekho Assured</td>\n",
       "      <td>13</td>\n",
       "      <td>NaN</td>\n",
       "      <td>1.5 DV5 MT Titanium</td>\n",
       "      <td>86,059</td>\n",
       "      <td>Diesel</td>\n",
       "      <td>Manual</td>\n",
       "      <td>5.48</td>\n",
       "      <td>Fixed Price</td>\n",
       "      <td>11,096</td>\n",
       "      <td>Schedule Test Drive</td>\n",
       "    </tr>\n",
       "  </tbody>\n",
       "</table>\n",
       "</div>"
      ],
      "text/plain": [
       "                    Brand           Assured  Number  View  \\\n",
       "0  2019 Toyota Etios Liva  CarDekho Assured      14   NaN   \n",
       "1      2015 Ford EcoSport  CarDekho Assured      13   NaN   \n",
       "\n",
       "                  Name Distance    Fuel Transmission Amount        Price  \\\n",
       "0     1.4 VD Dual Tone   62,642  Diesel       Manual   6.78  Fixed Price   \n",
       "1  1.5 DV5 MT Titanium   86,059  Diesel       Manual   5.48  Fixed Price   \n",
       "\n",
       "      Emi         Bookedbutton  \n",
       "0  12,089  Schedule Test Drive  \n",
       "1  11,096  Schedule Test Drive  "
      ]
     },
     "execution_count": 6,
     "metadata": {},
     "output_type": "execute_result"
    }
   ],
   "source": [
    "col = ['Name_URL','Text']\n",
    "df = df.drop(col, axis = 1)\n",
    "df.head(2)"
   ]
  },
  {
   "cell_type": "code",
   "execution_count": 7,
   "id": "86d1b844",
   "metadata": {},
   "outputs": [
    {
     "name": "stdout",
     "output_type": "stream",
     "text": [
      "No of Rows and Columns after dropping columns -----> (902, 12)\n"
     ]
    }
   ],
   "source": [
    "print('No of Rows and Columns after dropping columns ----->', df.shape )"
   ]
  },
  {
   "cell_type": "markdown",
   "id": "47a538dd",
   "metadata": {},
   "source": [
    "### Information about dataset"
   ]
  },
  {
   "cell_type": "code",
   "execution_count": 8,
   "id": "952e7832",
   "metadata": {},
   "outputs": [
    {
     "name": "stdout",
     "output_type": "stream",
     "text": [
      "==================================================\n",
      "\n",
      "<class 'pandas.core.frame.DataFrame'>\n",
      "RangeIndex: 902 entries, 0 to 901\n",
      "Data columns (total 12 columns):\n",
      " #   Column        Non-Null Count  Dtype  \n",
      "---  ------        --------------  -----  \n",
      " 0   Brand         902 non-null    object \n",
      " 1   Assured       902 non-null    object \n",
      " 2   Number        902 non-null    int64  \n",
      " 3   View          894 non-null    float64\n",
      " 4   Name          902 non-null    object \n",
      " 5   Distance      902 non-null    object \n",
      " 6   Fuel          902 non-null    object \n",
      " 7   Transmission  902 non-null    object \n",
      " 8   Amount        902 non-null    object \n",
      " 9   Price         884 non-null    object \n",
      " 10  Emi           742 non-null    object \n",
      " 11  Bookedbutton  884 non-null    object \n",
      "dtypes: float64(1), int64(1), object(10)\n",
      "memory usage: 84.7+ KB\n",
      "None\n",
      "====================================================\n"
     ]
    }
   ],
   "source": [
    "print('==================================================\\n')\n",
    "print(df.info())\n",
    "print('====================================================')"
   ]
  },
  {
   "cell_type": "markdown",
   "id": "a4864363",
   "metadata": {},
   "source": [
    "#### Categorical data present in our data set"
   ]
  },
  {
   "cell_type": "markdown",
   "id": "0bf52e19",
   "metadata": {},
   "source": [
    "### Convert Object Features Into Float"
   ]
  },
  {
   "cell_type": "code",
   "execution_count": 9,
   "id": "53eb731e",
   "metadata": {},
   "outputs": [
    {
     "name": "stdout",
     "output_type": "stream",
     "text": [
      "<class 'pandas.core.frame.DataFrame'>\n",
      "RangeIndex: 902 entries, 0 to 901\n",
      "Data columns (total 12 columns):\n",
      " #   Column        Non-Null Count  Dtype  \n",
      "---  ------        --------------  -----  \n",
      " 0   Brand         902 non-null    object \n",
      " 1   Assured       902 non-null    object \n",
      " 2   Number        902 non-null    int64  \n",
      " 3   View          894 non-null    float64\n",
      " 4   Name          902 non-null    object \n",
      " 5   Distance      902 non-null    float64\n",
      " 6   Fuel          902 non-null    object \n",
      " 7   Transmission  902 non-null    object \n",
      " 8   Amount        875 non-null    float64\n",
      " 9   Price         884 non-null    object \n",
      " 10  Emi           742 non-null    float64\n",
      " 11  Bookedbutton  884 non-null    object \n",
      "dtypes: float64(4), int64(1), object(7)\n",
      "memory usage: 84.7+ KB\n"
     ]
    }
   ],
   "source": [
    "df['Emi'] = df['Emi']. str. replace(r',','')\n",
    "df['Emi'] = df['Emi'].str.extract(r'(\\d+.\\d+)').astype('float')\n",
    "df['Amount'] = df['Amount']. str. replace(r',','')\n",
    "df['Amount'] = df['Amount'].str.extract(r'(\\d+.\\d+)').astype('float')\n",
    "df['Distance'] = df['Distance']. str. replace(r',','')\n",
    "df['Distance'] = df['Distance'].str.extract(r'(\\d+.\\d+)').astype('float')\n",
    "df.info()"
   ]
  },
  {
   "cell_type": "markdown",
   "id": "d15bf897",
   "metadata": {},
   "source": [
    "#### Features are converted"
   ]
  },
  {
   "cell_type": "markdown",
   "id": "d6e7d1f9",
   "metadata": {},
   "source": [
    "### Handling Missing Value"
   ]
  },
  {
   "cell_type": "code",
   "execution_count": 10,
   "id": "f3318683",
   "metadata": {},
   "outputs": [
    {
     "data": {
      "text/plain": [
       "Brand           0\n",
       "Assured         0\n",
       "Number          0\n",
       "View            0\n",
       "Name            0\n",
       "Distance        0\n",
       "Fuel            0\n",
       "Transmission    0\n",
       "Amount          0\n",
       "Price           0\n",
       "Emi             0\n",
       "Bookedbutton    0\n",
       "dtype: int64"
      ]
     },
     "execution_count": 10,
     "metadata": {},
     "output_type": "execute_result"
    }
   ],
   "source": [
    "df = df.apply(lambda x:x.fillna(x.mean()) if x.dtype == 'float64' else x.fillna(x.value_counts().index[0]))\n",
    "df.isna().sum()"
   ]
  },
  {
   "cell_type": "markdown",
   "id": "5bdbebbc",
   "metadata": {},
   "source": [
    "#### There is no null value"
   ]
  },
  {
   "cell_type": "markdown",
   "id": "e6626664",
   "metadata": {},
   "source": [
    "### Features Engineering"
   ]
  },
  {
   "cell_type": "markdown",
   "id": "c71331a3",
   "metadata": {},
   "source": [
    "### Adding Manufacturer Year Column"
   ]
  },
  {
   "cell_type": "code",
   "execution_count": 11,
   "id": "c55b1814",
   "metadata": {},
   "outputs": [
    {
     "data": {
      "text/html": [
       "<div>\n",
       "<style scoped>\n",
       "    .dataframe tbody tr th:only-of-type {\n",
       "        vertical-align: middle;\n",
       "    }\n",
       "\n",
       "    .dataframe tbody tr th {\n",
       "        vertical-align: top;\n",
       "    }\n",
       "\n",
       "    .dataframe thead th {\n",
       "        text-align: right;\n",
       "    }\n",
       "</style>\n",
       "<table border=\"1\" class=\"dataframe\">\n",
       "  <thead>\n",
       "    <tr style=\"text-align: right;\">\n",
       "      <th></th>\n",
       "      <th>Brand</th>\n",
       "      <th>Assured</th>\n",
       "      <th>Number</th>\n",
       "      <th>View</th>\n",
       "      <th>Name</th>\n",
       "      <th>Distance</th>\n",
       "      <th>Fuel</th>\n",
       "      <th>Transmission</th>\n",
       "      <th>Amount</th>\n",
       "      <th>Price</th>\n",
       "      <th>Emi</th>\n",
       "      <th>Bookedbutton</th>\n",
       "      <th>Mfg_year</th>\n",
       "    </tr>\n",
       "  </thead>\n",
       "  <tbody>\n",
       "    <tr>\n",
       "      <th>0</th>\n",
       "      <td>2019 Toyota Etios Liva</td>\n",
       "      <td>CarDekho Assured</td>\n",
       "      <td>14</td>\n",
       "      <td>778.081655</td>\n",
       "      <td>1.4 VD Dual Tone</td>\n",
       "      <td>62642.0</td>\n",
       "      <td>Diesel</td>\n",
       "      <td>Manual</td>\n",
       "      <td>6.78</td>\n",
       "      <td>Fixed Price</td>\n",
       "      <td>12089.0</td>\n",
       "      <td>Schedule Test Drive</td>\n",
       "      <td>2019</td>\n",
       "    </tr>\n",
       "    <tr>\n",
       "      <th>1</th>\n",
       "      <td>2015 Ford EcoSport</td>\n",
       "      <td>CarDekho Assured</td>\n",
       "      <td>13</td>\n",
       "      <td>778.081655</td>\n",
       "      <td>1.5 DV5 MT Titanium</td>\n",
       "      <td>86059.0</td>\n",
       "      <td>Diesel</td>\n",
       "      <td>Manual</td>\n",
       "      <td>5.48</td>\n",
       "      <td>Fixed Price</td>\n",
       "      <td>11096.0</td>\n",
       "      <td>Schedule Test Drive</td>\n",
       "      <td>2015</td>\n",
       "    </tr>\n",
       "  </tbody>\n",
       "</table>\n",
       "</div>"
      ],
      "text/plain": [
       "                    Brand           Assured  Number        View  \\\n",
       "0  2019 Toyota Etios Liva  CarDekho Assured      14  778.081655   \n",
       "1      2015 Ford EcoSport  CarDekho Assured      13  778.081655   \n",
       "\n",
       "                  Name  Distance    Fuel Transmission  Amount        Price  \\\n",
       "0     1.4 VD Dual Tone   62642.0  Diesel       Manual    6.78  Fixed Price   \n",
       "1  1.5 DV5 MT Titanium   86059.0  Diesel       Manual    5.48  Fixed Price   \n",
       "\n",
       "       Emi         Bookedbutton  Mfg_year  \n",
       "0  12089.0  Schedule Test Drive      2019  \n",
       "1  11096.0  Schedule Test Drive      2015  "
      ]
     },
     "execution_count": 11,
     "metadata": {},
     "output_type": "execute_result"
    }
   ],
   "source": [
    "df['Mfg_year'] = df['Brand'].str[0:4]\n",
    "df['Mfg_year'] = df['Mfg_year'].astype(int)\n",
    "df.head(2)"
   ]
  },
  {
   "cell_type": "code",
   "execution_count": 12,
   "id": "3219f0ce",
   "metadata": {},
   "outputs": [
    {
     "name": "stdout",
     "output_type": "stream",
     "text": [
      "<class 'pandas.core.frame.DataFrame'>\n",
      "RangeIndex: 902 entries, 0 to 901\n",
      "Data columns (total 13 columns):\n",
      " #   Column        Non-Null Count  Dtype  \n",
      "---  ------        --------------  -----  \n",
      " 0   Brand         902 non-null    object \n",
      " 1   Assured       902 non-null    object \n",
      " 2   Number        902 non-null    int64  \n",
      " 3   View          902 non-null    float64\n",
      " 4   Name          902 non-null    object \n",
      " 5   Distance      902 non-null    float64\n",
      " 6   Fuel          902 non-null    object \n",
      " 7   Transmission  902 non-null    object \n",
      " 8   Amount        902 non-null    float64\n",
      " 9   Price         902 non-null    object \n",
      " 10  Emi           902 non-null    float64\n",
      " 11  Bookedbutton  902 non-null    object \n",
      " 12  Mfg_year      902 non-null    int32  \n",
      "dtypes: float64(4), int32(1), int64(1), object(7)\n",
      "memory usage: 88.2+ KB\n"
     ]
    }
   ],
   "source": [
    "df.info()"
   ]
  },
  {
   "cell_type": "markdown",
   "id": "d0d331bc",
   "metadata": {},
   "source": [
    "### Adding Brand Column"
   ]
  },
  {
   "cell_type": "code",
   "execution_count": 13,
   "id": "68fe3437",
   "metadata": {},
   "outputs": [
    {
     "data": {
      "text/html": [
       "<div>\n",
       "<style scoped>\n",
       "    .dataframe tbody tr th:only-of-type {\n",
       "        vertical-align: middle;\n",
       "    }\n",
       "\n",
       "    .dataframe tbody tr th {\n",
       "        vertical-align: top;\n",
       "    }\n",
       "\n",
       "    .dataframe thead th {\n",
       "        text-align: right;\n",
       "    }\n",
       "</style>\n",
       "<table border=\"1\" class=\"dataframe\">\n",
       "  <thead>\n",
       "    <tr style=\"text-align: right;\">\n",
       "      <th></th>\n",
       "      <th>Brand</th>\n",
       "      <th>Assured</th>\n",
       "      <th>Number</th>\n",
       "      <th>View</th>\n",
       "      <th>Name</th>\n",
       "      <th>Distance</th>\n",
       "      <th>Fuel</th>\n",
       "      <th>Transmission</th>\n",
       "      <th>Amount</th>\n",
       "      <th>Price</th>\n",
       "      <th>Emi</th>\n",
       "      <th>Bookedbutton</th>\n",
       "      <th>Mfg_year</th>\n",
       "    </tr>\n",
       "  </thead>\n",
       "  <tbody>\n",
       "    <tr>\n",
       "      <th>0</th>\n",
       "      <td>Toyota Etios Liva</td>\n",
       "      <td>CarDekho Assured</td>\n",
       "      <td>14</td>\n",
       "      <td>778.081655</td>\n",
       "      <td>1.4 VD Dual Tone</td>\n",
       "      <td>62642.0</td>\n",
       "      <td>Diesel</td>\n",
       "      <td>Manual</td>\n",
       "      <td>6.78</td>\n",
       "      <td>Fixed Price</td>\n",
       "      <td>12089.0</td>\n",
       "      <td>Schedule Test Drive</td>\n",
       "      <td>2019</td>\n",
       "    </tr>\n",
       "    <tr>\n",
       "      <th>1</th>\n",
       "      <td>Ford EcoSport</td>\n",
       "      <td>CarDekho Assured</td>\n",
       "      <td>13</td>\n",
       "      <td>778.081655</td>\n",
       "      <td>1.5 DV5 MT Titanium</td>\n",
       "      <td>86059.0</td>\n",
       "      <td>Diesel</td>\n",
       "      <td>Manual</td>\n",
       "      <td>5.48</td>\n",
       "      <td>Fixed Price</td>\n",
       "      <td>11096.0</td>\n",
       "      <td>Schedule Test Drive</td>\n",
       "      <td>2015</td>\n",
       "    </tr>\n",
       "  </tbody>\n",
       "</table>\n",
       "</div>"
      ],
      "text/plain": [
       "               Brand           Assured  Number        View  \\\n",
       "0  Toyota Etios Liva  CarDekho Assured      14  778.081655   \n",
       "1      Ford EcoSport  CarDekho Assured      13  778.081655   \n",
       "\n",
       "                  Name  Distance    Fuel Transmission  Amount        Price  \\\n",
       "0     1.4 VD Dual Tone   62642.0  Diesel       Manual    6.78  Fixed Price   \n",
       "1  1.5 DV5 MT Titanium   86059.0  Diesel       Manual    5.48  Fixed Price   \n",
       "\n",
       "       Emi         Bookedbutton  Mfg_year  \n",
       "0  12089.0  Schedule Test Drive      2019  \n",
       "1  11096.0  Schedule Test Drive      2015  "
      ]
     },
     "execution_count": 13,
     "metadata": {},
     "output_type": "execute_result"
    }
   ],
   "source": [
    "df['Brand'] = df['Brand'].str[5:]\n",
    "df.head(2)"
   ]
  },
  {
   "cell_type": "markdown",
   "id": "604d1ea3",
   "metadata": {},
   "source": [
    "### Analysis of Data"
   ]
  },
  {
   "cell_type": "markdown",
   "id": "30b4703d",
   "metadata": {},
   "source": [
    "### Brand Column"
   ]
  },
  {
   "cell_type": "code",
   "execution_count": 14,
   "id": "ef189027",
   "metadata": {},
   "outputs": [
    {
     "data": {
      "text/plain": [
       "Maruti Swift               102\n",
       "Maruti Baleno               85\n",
       "Maruti Swift Dzire          79\n",
       "Maruti Ciaz                 57\n",
       "Maruti Alto K10             55\n",
       "                          ... \n",
       "Hyundai Santa Fe             1\n",
       "Nissan Micra Active          1\n",
       "Honda BR-V                   1\n",
       "Ford Figo Aspire             1\n",
       "Mercedes-Benz GLE Class      1\n",
       "Name: Brand, Length: 63, dtype: int64"
      ]
     },
     "execution_count": 14,
     "metadata": {},
     "output_type": "execute_result"
    }
   ],
   "source": [
    "b = df['Brand'].value_counts()\n",
    "b"
   ]
  },
  {
   "cell_type": "code",
   "execution_count": 15,
   "id": "8cdc55ca",
   "metadata": {},
   "outputs": [
    {
     "data": {
      "image/png": "[encoded data removed]",
      "text/plain": [
       "<Figure size 720x1080 with 1 Axes>"
      ]
     },
     "metadata": {
      "needs_background": "light"
     },
     "output_type": "display_data"
    }
   ],
   "source": [
    "b.plot.barh(figsize = (10,15), color = ['g','r','y','k','c','b'])\n",
    "plt.ylabel('Brand Name', c = 'g', fontsize = 12)\n",
    "plt.xlabel('Count', c = 'g', fontsize = 12 )\n",
    "plt.title('Brand vs Count', c = 'g', fontsize = 12)\n",
    "plt.show()"
   ]
  },
  {
   "cell_type": "markdown",
   "id": "82b3bd78",
   "metadata": {},
   "source": [
    "#### Above plot shows Maruri Swift highest selling car and Ford Figo Aspire lowest sell car"
   ]
  },
  {
   "cell_type": "markdown",
   "id": "16a261f8",
   "metadata": {},
   "source": [
    "### Fuel Column"
   ]
  },
  {
   "cell_type": "code",
   "execution_count": 16,
   "id": "5a6ae52c",
   "metadata": {},
   "outputs": [
    {
     "data": {
      "text/plain": [
       "Petrol    560\n",
       "Diesel    339\n",
       "CNG         3\n",
       "Name: Fuel, dtype: int64"
      ]
     },
     "execution_count": 16,
     "metadata": {},
     "output_type": "execute_result"
    }
   ],
   "source": [
    "a = df['Fuel'].value_counts()\n",
    "a"
   ]
  },
  {
   "cell_type": "code",
   "execution_count": 17,
   "id": "bc6d99d9",
   "metadata": {},
   "outputs": [
    {
     "data": {
      "image/png": "[encoded data removed]",
      "text/plain": [
       "<Figure size 432x288 with 1 Axes>"
      ]
     },
     "metadata": {
      "needs_background": "light"
     },
     "output_type": "display_data"
    }
   ],
   "source": [
    "sns.histplot(binwidth=0.5, x=\"Fuel\", hue=\"Fuel\", data=df, stat=\"count\", multiple=\"stack\")\n",
    "plt.show()"
   ]
  },
  {
   "cell_type": "markdown",
   "id": "f38fc378",
   "metadata": {},
   "source": [
    "#### Petrol type car no of count highest"
   ]
  },
  {
   "cell_type": "markdown",
   "id": "c82905fb",
   "metadata": {},
   "source": [
    "### Transmission Column"
   ]
  },
  {
   "cell_type": "code",
   "execution_count": 18,
   "id": "881985c0",
   "metadata": {},
   "outputs": [
    {
     "data": {
      "text/plain": [
       "Manual       816\n",
       "Automatic     86\n",
       "Name: Transmission, dtype: int64"
      ]
     },
     "execution_count": 18,
     "metadata": {},
     "output_type": "execute_result"
    }
   ],
   "source": [
    "df['Transmission'].value_counts()"
   ]
  },
  {
   "cell_type": "code",
   "execution_count": 19,
   "id": "693fe9c7",
   "metadata": {},
   "outputs": [
    {
     "data": {
      "image/png": "[encoded data removed]",
      "text/plain": [
       "<Figure size 432x288 with 1 Axes>"
      ]
     },
     "metadata": {
      "needs_background": "light"
     },
     "output_type": "display_data"
    }
   ],
   "source": [
    "sns.histplot(binwidth=0.5, x=\"Transmission\", hue=\"Transmission\", data=df, stat=\"count\", multiple=\"stack\")\n",
    "plt.show()"
   ]
  },
  {
   "cell_type": "markdown",
   "id": "e94eabcd",
   "metadata": {},
   "source": [
    "#### Manual car is highest sell"
   ]
  },
  {
   "cell_type": "markdown",
   "id": "1f2c8a5f",
   "metadata": {},
   "source": [
    "### Data distribution plot for every numeric feature"
   ]
  },
  {
   "cell_type": "code",
   "execution_count": 20,
   "id": "637a3a61",
   "metadata": {},
   "outputs": [
    {
     "data": {
      "image/png": "[encoded data removed]",
      "text/plain": [
       "<Figure size 900x180 with 1 Axes>"
      ]
     },
     "metadata": {
      "needs_background": "light"
     },
     "output_type": "display_data"
    },
    {
     "data": {
      "image/png": "[encoded data removed]",
      "text/plain": [
       "<Figure size 900x180 with 1 Axes>"
      ]
     },
     "metadata": {
      "needs_background": "light"
     },
     "output_type": "display_data"
    },
    {
     "data": {
      "image/png": "[encoded data removed]",
      "text/plain": [
       "<Figure size 900x180 with 1 Axes>"
      ]
     },
     "metadata": {
      "needs_background": "light"
     },
     "output_type": "display_data"
    },
    {
     "data": {
      "image/png": "[encoded data removed]",
      "text/plain": [
       "<Figure size 900x180 with 1 Axes>"
      ]
     },
     "metadata": {
      "needs_background": "light"
     },
     "output_type": "display_data"
    },
    {
     "data": {
      "image/png": "[encoded data removed]",
      "text/plain": [
       "<Figure size 900x180 with 1 Axes>"
      ]
     },
     "metadata": {
      "needs_background": "light"
     },
     "output_type": "display_data"
    },
    {
     "data": {
      "image/png": "[encoded data removed]",
      "text/plain": [
       "<Figure size 900x180 with 1 Axes>"
      ]
     },
     "metadata": {
      "needs_background": "light"
     },
     "output_type": "display_data"
    }
   ],
   "source": [
    "kl.dist_plot(df)\n",
    "plt.tight_layout()"
   ]
  },
  {
   "cell_type": "markdown",
   "id": "06935586",
   "metadata": {},
   "source": [
    "#### Data is skewed"
   ]
  },
  {
   "cell_type": "markdown",
   "id": "755c674e",
   "metadata": {},
   "source": [
    "### Flitering Categorical Feature"
   ]
  },
  {
   "cell_type": "code",
   "execution_count": 21,
   "id": "f2eb53f7",
   "metadata": {},
   "outputs": [],
   "source": [
    "num = ['int32','int64', 'float64']\n",
    "cat_col = []\n",
    "features = df.columns.values.tolist()\n",
    "for col in features:\n",
    "    if df[col].dtype in num:\n",
    "        continue\n",
    "    cat_col.append(col)"
   ]
  },
  {
   "cell_type": "markdown",
   "id": "1a10396a",
   "metadata": {},
   "source": [
    "### Encoding Categorical Features"
   ]
  },
  {
   "cell_type": "code",
   "execution_count": 22,
   "id": "055d53f9",
   "metadata": {},
   "outputs": [
    {
     "data": {
      "text/html": [
       "<div>\n",
       "<style scoped>\n",
       "    .dataframe tbody tr th:only-of-type {\n",
       "        vertical-align: middle;\n",
       "    }\n",
       "\n",
       "    .dataframe tbody tr th {\n",
       "        vertical-align: top;\n",
       "    }\n",
       "\n",
       "    .dataframe thead th {\n",
       "        text-align: right;\n",
       "    }\n",
       "</style>\n",
       "<table border=\"1\" class=\"dataframe\">\n",
       "  <thead>\n",
       "    <tr style=\"text-align: right;\">\n",
       "      <th></th>\n",
       "      <th>Brand_Chevrolet Beat</th>\n",
       "      <th>Brand_Datsun RediGO</th>\n",
       "      <th>Brand_Ford EcoSport</th>\n",
       "      <th>Brand_Ford Ecosport</th>\n",
       "      <th>Brand_Ford Figo Aspire</th>\n",
       "      <th>Brand_Ford Freestyle</th>\n",
       "      <th>Brand_Honda Accord</th>\n",
       "      <th>Brand_Honda Amaze</th>\n",
       "      <th>Brand_Honda BR-V</th>\n",
       "      <th>Brand_Honda Brio</th>\n",
       "      <th>...</th>\n",
       "      <th>Name_i-VTEC V MT</th>\n",
       "      <th>Name_i-VTEC VX</th>\n",
       "      <th>Name_mFALCON D75 K4</th>\n",
       "      <th>Fuel_CNG</th>\n",
       "      <th>Fuel_Diesel</th>\n",
       "      <th>Fuel_Petrol</th>\n",
       "      <th>Transmission_Automatic</th>\n",
       "      <th>Transmission_Manual</th>\n",
       "      <th>Price_Fixed Price</th>\n",
       "      <th>Bookedbutton_Schedule Test Drive</th>\n",
       "    </tr>\n",
       "  </thead>\n",
       "  <tbody>\n",
       "    <tr>\n",
       "      <th>0</th>\n",
       "      <td>0</td>\n",
       "      <td>0</td>\n",
       "      <td>0</td>\n",
       "      <td>0</td>\n",
       "      <td>0</td>\n",
       "      <td>0</td>\n",
       "      <td>0</td>\n",
       "      <td>0</td>\n",
       "      <td>0</td>\n",
       "      <td>0</td>\n",
       "      <td>...</td>\n",
       "      <td>0</td>\n",
       "      <td>0</td>\n",
       "      <td>0</td>\n",
       "      <td>0</td>\n",
       "      <td>1</td>\n",
       "      <td>0</td>\n",
       "      <td>0</td>\n",
       "      <td>1</td>\n",
       "      <td>1</td>\n",
       "      <td>1</td>\n",
       "    </tr>\n",
       "    <tr>\n",
       "      <th>1</th>\n",
       "      <td>0</td>\n",
       "      <td>0</td>\n",
       "      <td>1</td>\n",
       "      <td>0</td>\n",
       "      <td>0</td>\n",
       "      <td>0</td>\n",
       "      <td>0</td>\n",
       "      <td>0</td>\n",
       "      <td>0</td>\n",
       "      <td>0</td>\n",
       "      <td>...</td>\n",
       "      <td>0</td>\n",
       "      <td>0</td>\n",
       "      <td>0</td>\n",
       "      <td>0</td>\n",
       "      <td>1</td>\n",
       "      <td>0</td>\n",
       "      <td>0</td>\n",
       "      <td>1</td>\n",
       "      <td>1</td>\n",
       "      <td>1</td>\n",
       "    </tr>\n",
       "  </tbody>\n",
       "</table>\n",
       "<p>2 rows × 324 columns</p>\n",
       "</div>"
      ],
      "text/plain": [
       "   Brand_Chevrolet Beat  Brand_Datsun RediGO  Brand_Ford EcoSport  \\\n",
       "0                     0                    0                    0   \n",
       "1                     0                    0                    1   \n",
       "\n",
       "   Brand_Ford Ecosport  Brand_Ford Figo Aspire  Brand_Ford Freestyle  \\\n",
       "0                    0                       0                     0   \n",
       "1                    0                       0                     0   \n",
       "\n",
       "   Brand_Honda Accord  Brand_Honda Amaze  Brand_Honda BR-V  Brand_Honda Brio  \\\n",
       "0                   0                  0                 0                 0   \n",
       "1                   0                  0                 0                 0   \n",
       "\n",
       "   ...  Name_i-VTEC V MT  Name_i-VTEC VX  Name_mFALCON D75 K4  Fuel_CNG  \\\n",
       "0  ...                 0               0                    0         0   \n",
       "1  ...                 0               0                    0         0   \n",
       "\n",
       "   Fuel_Diesel  Fuel_Petrol  Transmission_Automatic  Transmission_Manual  \\\n",
       "0            1            0                       0                    1   \n",
       "1            1            0                       0                    1   \n",
       "\n",
       "   Price_Fixed Price  Bookedbutton_Schedule Test Drive  \n",
       "0                  1                                 1  \n",
       "1                  1                                 1  \n",
       "\n",
       "[2 rows x 324 columns]"
      ]
     },
     "execution_count": 22,
     "metadata": {},
     "output_type": "execute_result"
    }
   ],
   "source": [
    "df_dummies = pd.get_dummies(df[cat_col], drop_first = False)\n",
    "df_dummies.head(2)"
   ]
  },
  {
   "cell_type": "code",
   "execution_count": 23,
   "id": "9a85d150",
   "metadata": {},
   "outputs": [
    {
     "data": {
      "text/html": [
       "<div>\n",
       "<style scoped>\n",
       "    .dataframe tbody tr th:only-of-type {\n",
       "        vertical-align: middle;\n",
       "    }\n",
       "\n",
       "    .dataframe tbody tr th {\n",
       "        vertical-align: top;\n",
       "    }\n",
       "\n",
       "    .dataframe thead th {\n",
       "        text-align: right;\n",
       "    }\n",
       "</style>\n",
       "<table border=\"1\" class=\"dataframe\">\n",
       "  <thead>\n",
       "    <tr style=\"text-align: right;\">\n",
       "      <th></th>\n",
       "      <th>Brand</th>\n",
       "      <th>Assured</th>\n",
       "      <th>Number</th>\n",
       "      <th>View</th>\n",
       "      <th>Name</th>\n",
       "      <th>Distance</th>\n",
       "      <th>Fuel</th>\n",
       "      <th>Transmission</th>\n",
       "      <th>Amount</th>\n",
       "      <th>Price</th>\n",
       "      <th>...</th>\n",
       "      <th>Name_i-VTEC V MT</th>\n",
       "      <th>Name_i-VTEC VX</th>\n",
       "      <th>Name_mFALCON D75 K4</th>\n",
       "      <th>Fuel_CNG</th>\n",
       "      <th>Fuel_Diesel</th>\n",
       "      <th>Fuel_Petrol</th>\n",
       "      <th>Transmission_Automatic</th>\n",
       "      <th>Transmission_Manual</th>\n",
       "      <th>Price_Fixed Price</th>\n",
       "      <th>Bookedbutton_Schedule Test Drive</th>\n",
       "    </tr>\n",
       "  </thead>\n",
       "  <tbody>\n",
       "    <tr>\n",
       "      <th>0</th>\n",
       "      <td>Toyota Etios Liva</td>\n",
       "      <td>CarDekho Assured</td>\n",
       "      <td>14</td>\n",
       "      <td>778.081655</td>\n",
       "      <td>1.4 VD Dual Tone</td>\n",
       "      <td>62642.0</td>\n",
       "      <td>Diesel</td>\n",
       "      <td>Manual</td>\n",
       "      <td>6.78</td>\n",
       "      <td>Fixed Price</td>\n",
       "      <td>...</td>\n",
       "      <td>0</td>\n",
       "      <td>0</td>\n",
       "      <td>0</td>\n",
       "      <td>0</td>\n",
       "      <td>1</td>\n",
       "      <td>0</td>\n",
       "      <td>0</td>\n",
       "      <td>1</td>\n",
       "      <td>1</td>\n",
       "      <td>1</td>\n",
       "    </tr>\n",
       "    <tr>\n",
       "      <th>1</th>\n",
       "      <td>Ford EcoSport</td>\n",
       "      <td>CarDekho Assured</td>\n",
       "      <td>13</td>\n",
       "      <td>778.081655</td>\n",
       "      <td>1.5 DV5 MT Titanium</td>\n",
       "      <td>86059.0</td>\n",
       "      <td>Diesel</td>\n",
       "      <td>Manual</td>\n",
       "      <td>5.48</td>\n",
       "      <td>Fixed Price</td>\n",
       "      <td>...</td>\n",
       "      <td>0</td>\n",
       "      <td>0</td>\n",
       "      <td>0</td>\n",
       "      <td>0</td>\n",
       "      <td>1</td>\n",
       "      <td>0</td>\n",
       "      <td>0</td>\n",
       "      <td>1</td>\n",
       "      <td>1</td>\n",
       "      <td>1</td>\n",
       "    </tr>\n",
       "  </tbody>\n",
       "</table>\n",
       "<p>2 rows × 337 columns</p>\n",
       "</div>"
      ],
      "text/plain": [
       "               Brand           Assured  Number        View  \\\n",
       "0  Toyota Etios Liva  CarDekho Assured      14  778.081655   \n",
       "1      Ford EcoSport  CarDekho Assured      13  778.081655   \n",
       "\n",
       "                  Name  Distance    Fuel Transmission  Amount        Price  \\\n",
       "0     1.4 VD Dual Tone   62642.0  Diesel       Manual    6.78  Fixed Price   \n",
       "1  1.5 DV5 MT Titanium   86059.0  Diesel       Manual    5.48  Fixed Price   \n",
       "\n",
       "   ...  Name_i-VTEC V MT Name_i-VTEC VX  Name_mFALCON D75 K4  Fuel_CNG  \\\n",
       "0  ...                 0              0                    0         0   \n",
       "1  ...                 0              0                    0         0   \n",
       "\n",
       "   Fuel_Diesel  Fuel_Petrol  Transmission_Automatic  Transmission_Manual  \\\n",
       "0            1            0                       0                    1   \n",
       "1            1            0                       0                    1   \n",
       "\n",
       "   Price_Fixed Price  Bookedbutton_Schedule Test Drive  \n",
       "0                  1                                 1  \n",
       "1                  1                                 1  \n",
       "\n",
       "[2 rows x 337 columns]"
      ]
     },
     "execution_count": 23,
     "metadata": {},
     "output_type": "execute_result"
    }
   ],
   "source": [
    "df_dummies.shape\n",
    "df = df.join(df_dummies)\n",
    "df.shape\n",
    "df.head(2)"
   ]
  },
  {
   "cell_type": "code",
   "execution_count": 24,
   "id": "aa0ce978",
   "metadata": {},
   "outputs": [
    {
     "data": {
      "text/html": [
       "<div>\n",
       "<style scoped>\n",
       "    .dataframe tbody tr th:only-of-type {\n",
       "        vertical-align: middle;\n",
       "    }\n",
       "\n",
       "    .dataframe tbody tr th {\n",
       "        vertical-align: top;\n",
       "    }\n",
       "\n",
       "    .dataframe thead th {\n",
       "        text-align: right;\n",
       "    }\n",
       "</style>\n",
       "<table border=\"1\" class=\"dataframe\">\n",
       "  <thead>\n",
       "    <tr style=\"text-align: right;\">\n",
       "      <th></th>\n",
       "      <th>Number</th>\n",
       "      <th>View</th>\n",
       "      <th>Distance</th>\n",
       "      <th>Amount</th>\n",
       "      <th>Emi</th>\n",
       "      <th>Mfg_year</th>\n",
       "      <th>Brand_Chevrolet Beat</th>\n",
       "      <th>Brand_Datsun RediGO</th>\n",
       "      <th>Brand_Ford EcoSport</th>\n",
       "      <th>Brand_Ford Ecosport</th>\n",
       "      <th>...</th>\n",
       "      <th>Name_i-VTEC V MT</th>\n",
       "      <th>Name_i-VTEC VX</th>\n",
       "      <th>Name_mFALCON D75 K4</th>\n",
       "      <th>Fuel_CNG</th>\n",
       "      <th>Fuel_Diesel</th>\n",
       "      <th>Fuel_Petrol</th>\n",
       "      <th>Transmission_Automatic</th>\n",
       "      <th>Transmission_Manual</th>\n",
       "      <th>Price_Fixed Price</th>\n",
       "      <th>Bookedbutton_Schedule Test Drive</th>\n",
       "    </tr>\n",
       "  </thead>\n",
       "  <tbody>\n",
       "    <tr>\n",
       "      <th>0</th>\n",
       "      <td>14</td>\n",
       "      <td>778.081655</td>\n",
       "      <td>62642.0</td>\n",
       "      <td>6.78</td>\n",
       "      <td>12089.0</td>\n",
       "      <td>2019</td>\n",
       "      <td>0</td>\n",
       "      <td>0</td>\n",
       "      <td>0</td>\n",
       "      <td>0</td>\n",
       "      <td>...</td>\n",
       "      <td>0</td>\n",
       "      <td>0</td>\n",
       "      <td>0</td>\n",
       "      <td>0</td>\n",
       "      <td>1</td>\n",
       "      <td>0</td>\n",
       "      <td>0</td>\n",
       "      <td>1</td>\n",
       "      <td>1</td>\n",
       "      <td>1</td>\n",
       "    </tr>\n",
       "    <tr>\n",
       "      <th>1</th>\n",
       "      <td>13</td>\n",
       "      <td>778.081655</td>\n",
       "      <td>86059.0</td>\n",
       "      <td>5.48</td>\n",
       "      <td>11096.0</td>\n",
       "      <td>2015</td>\n",
       "      <td>0</td>\n",
       "      <td>0</td>\n",
       "      <td>1</td>\n",
       "      <td>0</td>\n",
       "      <td>...</td>\n",
       "      <td>0</td>\n",
       "      <td>0</td>\n",
       "      <td>0</td>\n",
       "      <td>0</td>\n",
       "      <td>1</td>\n",
       "      <td>0</td>\n",
       "      <td>0</td>\n",
       "      <td>1</td>\n",
       "      <td>1</td>\n",
       "      <td>1</td>\n",
       "    </tr>\n",
       "  </tbody>\n",
       "</table>\n",
       "<p>2 rows × 330 columns</p>\n",
       "</div>"
      ],
      "text/plain": [
       "   Number        View  Distance  Amount      Emi  Mfg_year  \\\n",
       "0      14  778.081655   62642.0    6.78  12089.0      2019   \n",
       "1      13  778.081655   86059.0    5.48  11096.0      2015   \n",
       "\n",
       "   Brand_Chevrolet Beat  Brand_Datsun RediGO  Brand_Ford EcoSport  \\\n",
       "0                     0                    0                    0   \n",
       "1                     0                    0                    1   \n",
       "\n",
       "   Brand_Ford Ecosport  ...  Name_i-VTEC V MT  Name_i-VTEC VX  \\\n",
       "0                    0  ...                 0               0   \n",
       "1                    0  ...                 0               0   \n",
       "\n",
       "   Name_mFALCON D75 K4  Fuel_CNG  Fuel_Diesel  Fuel_Petrol  \\\n",
       "0                    0         0            1            0   \n",
       "1                    0         0            1            0   \n",
       "\n",
       "   Transmission_Automatic  Transmission_Manual  Price_Fixed Price  \\\n",
       "0                       0                    1                  1   \n",
       "1                       0                    1                  1   \n",
       "\n",
       "   Bookedbutton_Schedule Test Drive  \n",
       "0                                 1  \n",
       "1                                 1  \n",
       "\n",
       "[2 rows x 330 columns]"
      ]
     },
     "execution_count": 24,
     "metadata": {},
     "output_type": "execute_result"
    }
   ],
   "source": [
    "df = df.drop(columns = cat_col, axis = 1)\n",
    "df.head(2)"
   ]
  },
  {
   "cell_type": "markdown",
   "id": "656583a9",
   "metadata": {},
   "source": [
    "#### Categorical features converted"
   ]
  },
  {
   "cell_type": "markdown",
   "id": "5b16f12e",
   "metadata": {},
   "source": [
    "### Spliting Dataset into features and label"
   ]
  },
  {
   "cell_type": "code",
   "execution_count": 25,
   "id": "548c250a",
   "metadata": {},
   "outputs": [
    {
     "name": "stdout",
     "output_type": "stream",
     "text": [
      "Data has been splited\n"
     ]
    }
   ],
   "source": [
    "x = df.drop('Amount', axis = 1)\n",
    "y = df.Amount\n",
    "print('Data has been splited')"
   ]
  },
  {
   "cell_type": "markdown",
   "id": "44438c0d",
   "metadata": {},
   "source": [
    "### Data Scaling"
   ]
  },
  {
   "cell_type": "code",
   "execution_count": 26,
   "id": "e94953eb",
   "metadata": {},
   "outputs": [
    {
     "data": {
      "text/plain": [
       "array([[ 1.32379695e-01, -1.00737033e-16,  4.00259715e-01, ...,\n",
       "         3.24641582e-01,  0.00000000e+00,  0.00000000e+00],\n",
       "       [-3.14835604e-01, -1.00737033e-16,  1.17020358e+00, ...,\n",
       "         3.24641582e-01,  0.00000000e+00,  0.00000000e+00],\n",
       "       [-3.14835604e-01, -6.71730329e-01,  1.30399107e+00, ...,\n",
       "         3.24641582e-01,  0.00000000e+00,  0.00000000e+00],\n",
       "       ...,\n",
       "       [ 1.32379695e-01, -6.13248236e-01, -1.37820309e+00, ...,\n",
       "         3.24641582e-01,  0.00000000e+00,  0.00000000e+00],\n",
       "       [ 1.32379695e-01, -6.13248236e-01, -1.37820309e+00, ...,\n",
       "         3.24641582e-01,  0.00000000e+00,  0.00000000e+00],\n",
       "       [ 1.32379695e-01, -6.13248236e-01, -1.37820309e+00, ...,\n",
       "         3.24641582e-01,  0.00000000e+00,  0.00000000e+00]])"
      ]
     },
     "execution_count": 26,
     "metadata": {},
     "output_type": "execute_result"
    }
   ],
   "source": [
    "scaler = StandardScaler()\n",
    "x_scaled = scaler.fit_transform(x)\n",
    "x_scaled"
   ]
  },
  {
   "cell_type": "markdown",
   "id": "180bea2f",
   "metadata": {},
   "source": [
    "#### Data has been scaled"
   ]
  },
  {
   "cell_type": "markdown",
   "id": "0f6fda32",
   "metadata": {},
   "source": [
    "### Split data into train and test. Model will be bulit on training data and tested on test data"
   ]
  },
  {
   "cell_type": "code",
   "execution_count": 27,
   "id": "5ee6d396",
   "metadata": {},
   "outputs": [
    {
     "name": "stdout",
     "output_type": "stream",
     "text": [
      "Data has been splited.\n"
     ]
    }
   ],
   "source": [
    "x_train, x_test, y_train, y_test = train_test_split(x, y, test_size = 0.25, random_state = 355)\n",
    "print('Data has been splited.')"
   ]
  },
  {
   "cell_type": "markdown",
   "id": "e4b6c528",
   "metadata": {},
   "source": [
    "## Model Bulding"
   ]
  },
  {
   "cell_type": "markdown",
   "id": "0b2a2f71",
   "metadata": {},
   "source": [
    "### Decision Tree model instantiaing, training and evaluating"
   ]
  },
  {
   "cell_type": "code",
   "execution_count": 31,
   "id": "a8a266b3",
   "metadata": {},
   "outputs": [],
   "source": [
    "bag_dt = BaggingRegressor(DecisionTreeRegressor(), n_estimators = 30, max_samples = 0.5, bootstrap = True,\n",
    "                          random_state= 3, oob_score = True)"
   ]
  },
  {
   "cell_type": "code",
   "execution_count": 32,
   "id": "2e165d9b",
   "metadata": {},
   "outputs": [
    {
     "data": {
      "text/plain": [
       "True"
      ]
     },
     "execution_count": 32,
     "metadata": {},
     "output_type": "execute_result"
    }
   ],
   "source": [
    "bag_dt.oob_score"
   ]
  },
  {
   "cell_type": "code",
   "execution_count": 33,
   "id": "595af139",
   "metadata": {},
   "outputs": [
    {
     "name": "stdout",
     "output_type": "stream",
     "text": [
      "Bagging DT score -------> 0.9251936470969164\n"
     ]
    }
   ],
   "source": [
    "bag_dt.fit(x_train, y_train)\n",
    "print('Bagging DT score ------->', bag_dt.score(x_test, y_test))"
   ]
  },
  {
   "cell_type": "code",
   "execution_count": 34,
   "id": "2b055a65",
   "metadata": {},
   "outputs": [],
   "source": [
    "y_pred = bag_dt.predict(x_test)"
   ]
  },
  {
   "cell_type": "code",
   "execution_count": 35,
   "id": "a2d6c04a",
   "metadata": {},
   "outputs": [
    {
     "name": "stdout",
     "output_type": "stream",
     "text": [
      "=========================================================\n",
      "R2 Score -----> 0.9251936470969164\n",
      "=========================================================\n",
      "RMSE of Model -------> 3040.460641814169\n",
      "=========================================================\n",
      "MSE of Model -------> 9244400.914421028\n",
      "=========================================================\n",
      "Score of test data ----> 0.9251936470969164\n",
      "=========================================================\n"
     ]
    }
   ],
   "source": [
    "print('=========================================================')\n",
    "print('R2 Score ----->', r2_score(y_test, y_pred))\n",
    "print('=========================================================')\n",
    "print('RMSE of Model ------->', np.sqrt(mean_squared_error(y_test, y_pred)))\n",
    "print('=========================================================')\n",
    "print('MSE of Model ------->', mean_squared_error(y_test, y_pred))\n",
    "print('=========================================================')\n",
    "print('Score of test data ---->', bag_dt.score(x_test, y_test))\n",
    "print('=========================================================')"
   ]
  },
  {
   "cell_type": "markdown",
   "id": "bafe9936",
   "metadata": {},
   "source": [
    "#### Conclusion : Decision Tree model has 92% score"
   ]
  },
  {
   "cell_type": "markdown",
   "id": "1cbb50b0",
   "metadata": {},
   "source": [
    "### XGBoost model instantiaing, training and evaluating"
   ]
  },
  {
   "cell_type": "code",
   "execution_count": 36,
   "id": "d0434f2c",
   "metadata": {},
   "outputs": [],
   "source": [
    "bag_xgb = BaggingRegressor(xgb.XGBRegressor(eval_metric = 'mlogloss'), n_estimators = 30, max_samples = 0.5, bootstrap = True,\n",
    "                          random_state= 3, oob_score = True)"
   ]
  },
  {
   "cell_type": "code",
   "execution_count": 37,
   "id": "df70de30",
   "metadata": {},
   "outputs": [
    {
     "data": {
      "text/plain": [
       "True"
      ]
     },
     "execution_count": 37,
     "metadata": {},
     "output_type": "execute_result"
    }
   ],
   "source": [
    "bag_xgb.oob_score"
   ]
  },
  {
   "cell_type": "code",
   "execution_count": 38,
   "id": "55528094",
   "metadata": {},
   "outputs": [
    {
     "name": "stdout",
     "output_type": "stream",
     "text": [
      "Bagging XGBoost score -------> 0.93811216599169\n"
     ]
    }
   ],
   "source": [
    "bag_xgb.fit(x_train, y_train)\n",
    "print('Bagging XGBoost score ------->', bag_xgb.score(x_test, y_test))"
   ]
  },
  {
   "cell_type": "code",
   "execution_count": 39,
   "id": "11c0b09f",
   "metadata": {},
   "outputs": [],
   "source": [
    "y_pred = bag_xgb.predict(x_test)"
   ]
  },
  {
   "cell_type": "code",
   "execution_count": 40,
   "id": "21b77efd",
   "metadata": {},
   "outputs": [
    {
     "name": "stdout",
     "output_type": "stream",
     "text": [
      "=========================================================\n",
      "R2 Score -----> 0.93811216599169\n",
      "=========================================================\n",
      "RMSE of Model -------> 2765.4944209710134\n",
      "=========================================================\n",
      "MSE of Model -------> 7647959.392421801\n",
      "=========================================================\n",
      "Score of test data ----> 0.93811216599169\n",
      "=========================================================\n"
     ]
    }
   ],
   "source": [
    "print('=========================================================')\n",
    "print('R2 Score ----->', r2_score(y_test, y_pred))\n",
    "print('=========================================================')\n",
    "print('RMSE of Model ------->', np.sqrt(mean_squared_error(y_test, y_pred)))\n",
    "print('=========================================================')\n",
    "print('MSE of Model ------->', mean_squared_error(y_test, y_pred))\n",
    "print('=========================================================')\n",
    "print('Score of test data ---->', bag_xgb.score(x_test, y_test))\n",
    "print('=========================================================')"
   ]
  },
  {
   "cell_type": "markdown",
   "id": "809aaebe",
   "metadata": {},
   "source": [
    "#### Conclusion : XGBoost model has 93% score"
   ]
  },
  {
   "cell_type": "markdown",
   "id": "267f3d72",
   "metadata": {},
   "source": [
    "### Knn model instantiaing, training and evaluating"
   ]
  },
  {
   "cell_type": "code",
   "execution_count": 41,
   "id": "13958ed6",
   "metadata": {},
   "outputs": [],
   "source": [
    "bag_Knn = BaggingRegressor(KNeighborsRegressor(n_neighbors = 5), n_estimators = 30, max_samples = 0.5, bootstrap = True,\n",
    "                          random_state= 3, oob_score = True)"
   ]
  },
  {
   "cell_type": "code",
   "execution_count": 42,
   "id": "012ec5bf",
   "metadata": {},
   "outputs": [
    {
     "data": {
      "text/plain": [
       "True"
      ]
     },
     "execution_count": 42,
     "metadata": {},
     "output_type": "execute_result"
    }
   ],
   "source": [
    "bag_Knn.oob_score"
   ]
  },
  {
   "cell_type": "code",
   "execution_count": 43,
   "id": "bbfb12b8",
   "metadata": {},
   "outputs": [
    {
     "name": "stdout",
     "output_type": "stream",
     "text": [
      "Bagging KNN score -------> 0.14768034013917808\n"
     ]
    }
   ],
   "source": [
    "bag_Knn.fit(x_train, y_train)\n",
    "print('Bagging KNN score ------->', bag_Knn.score(x_test, y_test))"
   ]
  },
  {
   "cell_type": "code",
   "execution_count": 44,
   "id": "5d41e930",
   "metadata": {},
   "outputs": [],
   "source": [
    "y_pred = bag_dt.predict(x_test)"
   ]
  },
  {
   "cell_type": "code",
   "execution_count": 45,
   "id": "3d91d888",
   "metadata": {},
   "outputs": [
    {
     "name": "stdout",
     "output_type": "stream",
     "text": [
      "=========================================================\n",
      "R2 Score -----> 0.9251936470969164\n",
      "=========================================================\n",
      "RMSE of Model -------> 3040.460641814169\n",
      "=========================================================\n",
      "MSE of Model -------> 9244400.914421028\n",
      "=========================================================\n",
      "Score of test data ----> 0.14768034013917808\n",
      "=========================================================\n"
     ]
    }
   ],
   "source": [
    "print('=========================================================')\n",
    "print('R2 Score ----->', r2_score(y_test, y_pred))\n",
    "print('=========================================================')\n",
    "print('RMSE of Model ------->', np.sqrt(mean_squared_error(y_test, y_pred)))\n",
    "print('=========================================================')\n",
    "print('MSE of Model ------->', mean_squared_error(y_test, y_pred))\n",
    "print('=========================================================')\n",
    "print('Score of test data ---->', bag_Knn.score(x_test, y_test))\n",
    "print('=========================================================')"
   ]
  },
  {
   "cell_type": "markdown",
   "id": "5602f459",
   "metadata": {},
   "source": [
    "#### Conclusion : KNN model has 92% score"
   ]
  },
  {
   "cell_type": "markdown",
   "id": "49eee89e",
   "metadata": {},
   "source": [
    "### Random Forest model instantiaing, training and evaluating"
   ]
  },
  {
   "cell_type": "code",
   "execution_count": 47,
   "id": "965f5119",
   "metadata": {},
   "outputs": [],
   "source": [
    "bag_Rn = BaggingRegressor(RandomForestRegressor(), n_estimators = 30, max_samples = 0.5, bootstrap = True,\n",
    "                          random_state= 3, oob_score = True)"
   ]
  },
  {
   "cell_type": "code",
   "execution_count": 48,
   "id": "bf112729",
   "metadata": {},
   "outputs": [
    {
     "data": {
      "text/plain": [
       "True"
      ]
     },
     "execution_count": 48,
     "metadata": {},
     "output_type": "execute_result"
    }
   ],
   "source": [
    "bag_Rn.oob_score"
   ]
  },
  {
   "cell_type": "code",
   "execution_count": 49,
   "id": "bf86a97d",
   "metadata": {},
   "outputs": [
    {
     "name": "stdout",
     "output_type": "stream",
     "text": [
      "Bagging Random Forest score -------> 0.7701994651232211\n"
     ]
    }
   ],
   "source": [
    "bag_Rn.fit(x_train, y_train)\n",
    "print('Bagging Random Forest score ------->', bag_Rn.score(x_test, y_test))"
   ]
  },
  {
   "cell_type": "code",
   "execution_count": 50,
   "id": "0f5839b1",
   "metadata": {},
   "outputs": [
    {
     "name": "stdout",
     "output_type": "stream",
     "text": [
      "=========================================================\n",
      "R2 Score -----> 0.9251936470969164\n",
      "=========================================================\n",
      "RMSE of Model -------> 3040.460641814169\n",
      "=========================================================\n",
      "MSE of Model -------> 9244400.914421028\n",
      "=========================================================\n",
      "Score of test data ----> 0.7701994651232211\n",
      "=========================================================\n"
     ]
    }
   ],
   "source": [
    "print('=========================================================')\n",
    "print('R2 Score ----->', r2_score(y_test, y_pred))\n",
    "print('=========================================================')\n",
    "print('RMSE of Model ------->', np.sqrt(mean_squared_error(y_test, y_pred)))\n",
    "print('=========================================================')\n",
    "print('MSE of Model ------->', mean_squared_error(y_test, y_pred))\n",
    "print('=========================================================')\n",
    "print('Score of test data ---->', bag_Rn.score(x_test, y_test))\n",
    "print('=========================================================')"
   ]
  },
  {
   "cell_type": "markdown",
   "id": "70f88287",
   "metadata": {},
   "source": [
    "### AdaBoost model instantiaing, training and evaluating"
   ]
  },
  {
   "cell_type": "code",
   "execution_count": 51,
   "id": "2e61f9de",
   "metadata": {},
   "outputs": [],
   "source": [
    "bag_Ada = BaggingRegressor(AdaBoostRegressor(), n_estimators = 30, max_samples = 0.5, bootstrap = True,\n",
    "                          random_state= 3, oob_score = True)"
   ]
  },
  {
   "cell_type": "code",
   "execution_count": 52,
   "id": "a000d1c7",
   "metadata": {},
   "outputs": [
    {
     "data": {
      "text/plain": [
       "True"
      ]
     },
     "execution_count": 52,
     "metadata": {},
     "output_type": "execute_result"
    }
   ],
   "source": [
    "bag_Ada.oob_score"
   ]
  },
  {
   "cell_type": "code",
   "execution_count": 53,
   "id": "af06f8f9",
   "metadata": {},
   "outputs": [
    {
     "name": "stdout",
     "output_type": "stream",
     "text": [
      "Bagging AdaBoost score -------> 0.8880176178308465\n"
     ]
    }
   ],
   "source": [
    "bag_Ada.fit(x_train, y_train)\n",
    "print('Bagging AdaBoost score ------->', bag_Ada.score(x_test, y_test))"
   ]
  },
  {
   "cell_type": "code",
   "execution_count": 55,
   "id": "2fe34679",
   "metadata": {},
   "outputs": [
    {
     "name": "stdout",
     "output_type": "stream",
     "text": [
      "=========================================================\n",
      "R2 Score -----> 0.9251936470969164\n",
      "=========================================================\n",
      "RMSE of Model -------> 3040.460641814169\n",
      "=========================================================\n",
      "MSE of Model -------> 9244400.914421028\n",
      "=========================================================\n",
      "Score of test data ----> 0.8880176178308465\n",
      "=========================================================\n"
     ]
    }
   ],
   "source": [
    "print('=========================================================')\n",
    "print('R2 Score ----->', r2_score(y_test, y_pred))\n",
    "print('=========================================================')\n",
    "print('RMSE of Model ------->', np.sqrt(mean_squared_error(y_test, y_pred)))\n",
    "print('=========================================================')\n",
    "print('MSE of Model ------->', mean_squared_error(y_test, y_pred))\n",
    "print('=========================================================')\n",
    "print('Score of test data ---->', bag_Ada.score(x_test, y_test))\n",
    "print('=========================================================')"
   ]
  },
  {
   "cell_type": "markdown",
   "id": "c30ebcee",
   "metadata": {},
   "source": [
    "#### Conclusion : AdaBoost model has 92% score"
   ]
  },
  {
   "cell_type": "markdown",
   "id": "7fafbf61",
   "metadata": {},
   "source": [
    "### Linear Regression model instantiaing, training and evaluating"
   ]
  },
  {
   "cell_type": "code",
   "execution_count": 56,
   "id": "e4bfd93f",
   "metadata": {},
   "outputs": [],
   "source": [
    "bag_Lr = BaggingRegressor(LinearRegression(), n_estimators = 30, max_samples = 0.5, bootstrap = True,\n",
    "                          random_state= 3, oob_score = True)"
   ]
  },
  {
   "cell_type": "code",
   "execution_count": 57,
   "id": "fdfb2f15",
   "metadata": {},
   "outputs": [
    {
     "data": {
      "text/plain": [
       "True"
      ]
     },
     "execution_count": 57,
     "metadata": {},
     "output_type": "execute_result"
    }
   ],
   "source": [
    "bag_Lr.oob_score"
   ]
  },
  {
   "cell_type": "code",
   "execution_count": 58,
   "id": "e5cef1e7",
   "metadata": {},
   "outputs": [
    {
     "name": "stdout",
     "output_type": "stream",
     "text": [
      "Bagging Linear Regression score -------> -597097385.3832663\n"
     ]
    }
   ],
   "source": [
    "bag_Lr.fit(x_train, y_train)\n",
    "print('Bagging Linear Regression score ------->', bag_Lr.score(x_test, y_test))"
   ]
  },
  {
   "cell_type": "code",
   "execution_count": 60,
   "id": "5da4de78",
   "metadata": {},
   "outputs": [
    {
     "name": "stdout",
     "output_type": "stream",
     "text": [
      "=========================================================\n",
      "R2 Score -----> 0.9251936470969164\n",
      "=========================================================\n",
      "RMSE of Model -------> 3040.460641814169\n",
      "=========================================================\n",
      "MSE of Model -------> 9244400.914421028\n",
      "=========================================================\n",
      "Score of test data ----> -597097385.3832663\n",
      "=========================================================\n"
     ]
    }
   ],
   "source": [
    "print('=========================================================')\n",
    "print('R2 Score ----->', r2_score(y_test, y_pred))\n",
    "print('=========================================================')\n",
    "print('RMSE of Model ------->', np.sqrt(mean_squared_error(y_test, y_pred)))\n",
    "print('=========================================================')\n",
    "print('MSE of Model ------->', mean_squared_error(y_test, y_pred))\n",
    "print('=========================================================')\n",
    "print('Score of test data ---->', bag_Lr.score(x_test, y_test))\n",
    "print('=========================================================')"
   ]
  },
  {
   "cell_type": "markdown",
   "id": "4ca1c72d",
   "metadata": {},
   "source": [
    "#### Conclusion : Linear Regression model has 92% score"
   ]
  },
  {
   "cell_type": "markdown",
   "id": "d2fd044d",
   "metadata": {},
   "source": [
    "### Looking RMSE score we found XGBoost has best model so we do Hyperparameter Tuning on it."
   ]
  },
  {
   "cell_type": "code",
   "execution_count": 61,
   "id": "0f02a331",
   "metadata": {},
   "outputs": [],
   "source": [
    "param = {'n_estimators': [50,100,150], 'max_samples': [1.0], 'bootstrap': [True]}"
   ]
  },
  {
   "cell_type": "code",
   "execution_count": 62,
   "id": "156a6b29",
   "metadata": {},
   "outputs": [],
   "source": [
    "grid_search = GridSearchCV(estimator = bag_xgb, param_grid = param, cv = 5 , n_jobs = -1)"
   ]
  },
  {
   "cell_type": "code",
   "execution_count": 63,
   "id": "8b8589a6",
   "metadata": {},
   "outputs": [
    {
     "data": {
      "text/plain": [
       "GridSearchCV(cv=5,\n",
       "             estimator=BaggingRegressor(base_estimator=XGBRegressor(base_score=None,\n",
       "                                                                    booster=None,\n",
       "                                                                    colsample_bylevel=None,\n",
       "                                                                    colsample_bynode=None,\n",
       "                                                                    colsample_bytree=None,\n",
       "                                                                    eval_metric='mlogloss',\n",
       "                                                                    gamma=None,\n",
       "                                                                    gpu_id=None,\n",
       "                                                                    importance_type='gain',\n",
       "                                                                    interaction_constraints=None,\n",
       "                                                                    learning_rate=None,\n",
       "                                                                    max_delta_step=None,\n",
       "                                                                    max_depth=None,\n",
       "                                                                    min_child_weight=None,\n",
       "                                                                    missing...\n",
       "                                                                    monotone_constraints=None,\n",
       "                                                                    n_estimators=100,\n",
       "                                                                    n_jobs=None,\n",
       "                                                                    num_parallel_tree=None,\n",
       "                                                                    random_state=None,\n",
       "                                                                    reg_alpha=None,\n",
       "                                                                    reg_lambda=None,\n",
       "                                                                    scale_pos_weight=None,\n",
       "                                                                    subsample=None,\n",
       "                                                                    tree_method=None,\n",
       "                                                                    validate_parameters=None,\n",
       "                                                                    verbosity=None),\n",
       "                                        max_samples=0.5, n_estimators=30,\n",
       "                                        oob_score=True, random_state=3),\n",
       "             n_jobs=-1,\n",
       "             param_grid={'bootstrap': [True], 'max_samples': [1.0],\n",
       "                         'n_estimators': [50, 100, 150]})"
      ]
     },
     "execution_count": 63,
     "metadata": {},
     "output_type": "execute_result"
    }
   ],
   "source": [
    "grid_search.fit(x_train, y_train)"
   ]
  },
  {
   "cell_type": "code",
   "execution_count": 64,
   "id": "6d3b9477",
   "metadata": {},
   "outputs": [
    {
     "name": "stdout",
     "output_type": "stream",
     "text": [
      "{'bootstrap': True, 'max_samples': 1.0, 'n_estimators': 50}\n"
     ]
    }
   ],
   "source": [
    "best_parameters = grid_search.best_params_\n",
    "print(best_parameters)"
   ]
  },
  {
   "cell_type": "code",
   "execution_count": 65,
   "id": "5842f77e",
   "metadata": {},
   "outputs": [
    {
     "data": {
      "text/plain": [
       "0.9464371668115473"
      ]
     },
     "execution_count": 65,
     "metadata": {},
     "output_type": "execute_result"
    }
   ],
   "source": [
    "hxgb = BaggingRegressor(base_estimator=xgb.XGBRegressor(),max_samples = 1.0, bootstrap = True , n_estimators = 50)\n",
    "hxgb.fit(x_train, y_train)\n",
    "hxgb.score(x_test, y_test)"
   ]
  },
  {
   "cell_type": "code",
   "execution_count": 66,
   "id": "dff77f11",
   "metadata": {},
   "outputs": [],
   "source": [
    "y_pred = hxgb.predict(x_test)"
   ]
  },
  {
   "cell_type": "code",
   "execution_count": 67,
   "id": "5d20d816",
   "metadata": {},
   "outputs": [
    {
     "name": "stdout",
     "output_type": "stream",
     "text": [
      "=========================================================\n",
      "R2 Score -----> 0.9464371668115473\n",
      "=========================================================\n",
      "RMSE of Model -------> 2572.7756425919933\n",
      "=========================================================\n",
      "MSE of Model -------> 6619174.507114644\n",
      "=========================================================\n",
      "Score of test data ----> 0.9464371668115473\n",
      "=========================================================\n"
     ]
    }
   ],
   "source": [
    "print('=========================================================')\n",
    "print('R2 Score ----->', r2_score(y_test, y_pred))\n",
    "print('=========================================================')\n",
    "print('RMSE of Model ------->', np.sqrt(mean_squared_error(y_test, y_pred)))\n",
    "print('=========================================================')\n",
    "print('MSE of Model ------->', mean_squared_error(y_test, y_pred))\n",
    "print('=========================================================')\n",
    "print('Score of test data ---->', hxgb.score(x_test, y_test))\n",
    "print('=========================================================')"
   ]
  },
  {
   "cell_type": "markdown",
   "id": "53987f99",
   "metadata": {},
   "source": [
    "#### After Hyperparameter Tuning model accuracy score 94%"
   ]
  },
  {
   "cell_type": "markdown",
   "id": "4066512f",
   "metadata": {},
   "source": [
    "### Saving The Model"
   ]
  },
  {
   "cell_type": "code",
   "execution_count": 68,
   "id": "f439f526",
   "metadata": {},
   "outputs": [],
   "source": [
    "# saving the model to the Local file system\n",
    "filename = 'Car Price Prediction.pickle'\n",
    "pickle.dump(hxgb, open(filename, 'wb'))"
   ]
  },
  {
   "cell_type": "markdown",
   "id": "c351fae8",
   "metadata": {},
   "source": [
    "### Predict Car Price "
   ]
  },
  {
   "cell_type": "code",
   "execution_count": 70,
   "id": "25e03cd1",
   "metadata": {},
   "outputs": [],
   "source": [
    "model = pickle.load(open('Car Price Prediction.pickle', 'rb'))"
   ]
  },
  {
   "cell_type": "code",
   "execution_count": 71,
   "id": "d3faa30f",
   "metadata": {},
   "outputs": [
    {
     "data": {
      "text/html": [
       "<div>\n",
       "<style scoped>\n",
       "    .dataframe tbody tr th:only-of-type {\n",
       "        vertical-align: middle;\n",
       "    }\n",
       "\n",
       "    .dataframe tbody tr th {\n",
       "        vertical-align: top;\n",
       "    }\n",
       "\n",
       "    .dataframe thead th {\n",
       "        text-align: right;\n",
       "    }\n",
       "</style>\n",
       "<table border=\"1\" class=\"dataframe\">\n",
       "  <thead>\n",
       "    <tr style=\"text-align: right;\">\n",
       "      <th></th>\n",
       "      <th>0</th>\n",
       "      <th>1</th>\n",
       "      <th>2</th>\n",
       "      <th>3</th>\n",
       "      <th>4</th>\n",
       "      <th>5</th>\n",
       "      <th>6</th>\n",
       "      <th>7</th>\n",
       "      <th>8</th>\n",
       "      <th>9</th>\n",
       "      <th>...</th>\n",
       "      <th>216</th>\n",
       "      <th>217</th>\n",
       "      <th>218</th>\n",
       "      <th>219</th>\n",
       "      <th>220</th>\n",
       "      <th>221</th>\n",
       "      <th>222</th>\n",
       "      <th>223</th>\n",
       "      <th>224</th>\n",
       "      <th>225</th>\n",
       "    </tr>\n",
       "  </thead>\n",
       "  <tbody>\n",
       "    <tr>\n",
       "      <th>Predicted</th>\n",
       "      <td>2.060246</td>\n",
       "      <td>5.310994</td>\n",
       "      <td>1.520311</td>\n",
       "      <td>5.537214</td>\n",
       "      <td>4.463762</td>\n",
       "      <td>4.292747</td>\n",
       "      <td>57960.425781</td>\n",
       "      <td>2.043301</td>\n",
       "      <td>6.183212</td>\n",
       "      <td>3.324293</td>\n",
       "      <td>...</td>\n",
       "      <td>3.939211</td>\n",
       "      <td>6.213358</td>\n",
       "      <td>5.759528</td>\n",
       "      <td>42126.15625</td>\n",
       "      <td>3.323519</td>\n",
       "      <td>3.353791</td>\n",
       "      <td>2.920416</td>\n",
       "      <td>6.128139</td>\n",
       "      <td>39313.316406</td>\n",
       "      <td>5.133968</td>\n",
       "    </tr>\n",
       "    <tr>\n",
       "      <th>Orginal</th>\n",
       "      <td>6.540000</td>\n",
       "      <td>3.640000</td>\n",
       "      <td>1.390000</td>\n",
       "      <td>5.480000</td>\n",
       "      <td>4.270000</td>\n",
       "      <td>4.320000</td>\n",
       "      <td>63000.000000</td>\n",
       "      <td>1.740000</td>\n",
       "      <td>6.100000</td>\n",
       "      <td>2.980000</td>\n",
       "      <td>...</td>\n",
       "      <td>3.530000</td>\n",
       "      <td>6.360000</td>\n",
       "      <td>6.550000</td>\n",
       "      <td>55000.00000</td>\n",
       "      <td>3.130000</td>\n",
       "      <td>2.930000</td>\n",
       "      <td>2.750000</td>\n",
       "      <td>6.220000</td>\n",
       "      <td>58000.000000</td>\n",
       "      <td>5.390000</td>\n",
       "    </tr>\n",
       "  </tbody>\n",
       "</table>\n",
       "<p>2 rows × 226 columns</p>\n",
       "</div>"
      ],
      "text/plain": [
       "                0         1         2         3         4         5    \\\n",
       "Predicted  2.060246  5.310994  1.520311  5.537214  4.463762  4.292747   \n",
       "Orginal    6.540000  3.640000  1.390000  5.480000  4.270000  4.320000   \n",
       "\n",
       "                    6         7         8         9    ...       216  \\\n",
       "Predicted  57960.425781  2.043301  6.183212  3.324293  ...  3.939211   \n",
       "Orginal    63000.000000  1.740000  6.100000  2.980000  ...  3.530000   \n",
       "\n",
       "                217       218          219       220       221       222  \\\n",
       "Predicted  6.213358  5.759528  42126.15625  3.323519  3.353791  2.920416   \n",
       "Orginal    6.360000  6.550000  55000.00000  3.130000  2.930000  2.750000   \n",
       "\n",
       "                223           224       225  \n",
       "Predicted  6.128139  39313.316406  5.133968  \n",
       "Orginal    6.220000  58000.000000  5.390000  \n",
       "\n",
       "[2 rows x 226 columns]"
      ]
     },
     "execution_count": 71,
     "metadata": {},
     "output_type": "execute_result"
    }
   ],
   "source": [
    "Prediction = pd.DataFrame([model.predict(x_test)[:], y_test[:]], index = ['Predicted', 'Orginal'])\n",
    "Prediction"
   ]
  },
  {
   "cell_type": "markdown",
   "id": "0ae2ea5a",
   "metadata": {},
   "source": [
    "### Saving the predicted result in CSV file"
   ]
  },
  {
   "cell_type": "code",
   "execution_count": 72,
   "id": "53694a40",
   "metadata": {},
   "outputs": [],
   "source": [
    "Prediction.to_csv('Car Price Prediction.csv')"
   ]
  },
  {
   "cell_type": "markdown",
   "id": "13877f7f",
   "metadata": {},
   "source": [
    "## Final Conclusion : XGBoost is our best model."
   ]
  },
  {
   "cell_type": "code",
   "execution_count": null,
   "id": "984ca72d",
   "metadata": {},
   "outputs": [],
   "source": []
  }
 ],
 "metadata": {
  "kernelspec": {
   "display_name": "Python 3",
   "language": "python",
   "name": "python3"
  },
  "language_info": {
   "codemirror_mode": {
    "name": "ipython",
    "version": 3
   },
   "file_extension": ".py",
   "mimetype": "text/x-python",
   "name": "python",
   "nbconvert_exporter": "python",
   "pygments_lexer": "ipython3",
   "version": "3.8.8"
  }
 },
 "nbformat": 4,
 "nbformat_minor": 5
}
